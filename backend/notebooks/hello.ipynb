{
 "cells": [
  {
   "cell_type": "code",
   "execution_count": 2,
   "id": "70fd2617",
   "metadata": {},
   "outputs": [],
   "source": [
    "from sklearn.datasets import fetch_california_housing\n",
    "import pandas as pd \n",
    "import numpy as np\n",
    "import matplotlib.pyplot as plt\n",
    "import seaborn as sns\n",
    "\n"
   ]
  },
  {
   "cell_type": "code",
   "execution_count": 3,
   "id": "bb33bb9d",
   "metadata": {},
   "outputs": [],
   "source": [
    "data = fetch_california_housing()"
   ]
  },
  {
   "cell_type": "code",
   "execution_count": 7,
   "id": "6232c7eb",
   "metadata": {},
   "outputs": [
    {
     "data": {
      "text/plain": [
       "{'data': array([[   8.3252    ,   41.        ,    6.98412698, ...,    2.55555556,\n",
       "           37.88      , -122.23      ],\n",
       "        [   8.3014    ,   21.        ,    6.23813708, ...,    2.10984183,\n",
       "           37.86      , -122.22      ],\n",
       "        [   7.2574    ,   52.        ,    8.28813559, ...,    2.80225989,\n",
       "           37.85      , -122.24      ],\n",
       "        ...,\n",
       "        [   1.7       ,   17.        ,    5.20554273, ...,    2.3256351 ,\n",
       "           39.43      , -121.22      ],\n",
       "        [   1.8672    ,   18.        ,    5.32951289, ...,    2.12320917,\n",
       "           39.43      , -121.32      ],\n",
       "        [   2.3886    ,   16.        ,    5.25471698, ...,    2.61698113,\n",
       "           39.37      , -121.24      ]]),\n",
       " 'target': array([4.526, 3.585, 3.521, ..., 0.923, 0.847, 0.894]),\n",
       " 'frame': None,\n",
       " 'target_names': ['MedHouseVal'],\n",
       " 'feature_names': ['MedInc',\n",
       "  'HouseAge',\n",
       "  'AveRooms',\n",
       "  'AveBedrms',\n",
       "  'Population',\n",
       "  'AveOccup',\n",
       "  'Latitude',\n",
       "  'Longitude'],\n",
       " 'DESCR': '.. _california_housing_dataset:\\n\\nCalifornia Housing dataset\\n--------------------------\\n\\n**Data Set Characteristics:**\\n\\n:Number of Instances: 20640\\n\\n:Number of Attributes: 8 numeric, predictive attributes and the target\\n\\n:Attribute Information:\\n    - MedInc        median income in block group\\n    - HouseAge      median house age in block group\\n    - AveRooms      average number of rooms per household\\n    - AveBedrms     average number of bedrooms per household\\n    - Population    block group population\\n    - AveOccup      average number of household members\\n    - Latitude      block group latitude\\n    - Longitude     block group longitude\\n\\n:Missing Attribute Values: None\\n\\nThis dataset was obtained from the StatLib repository.\\nhttps://www.dcc.fc.up.pt/~ltorgo/Regression/cal_housing.html\\n\\nThe target variable is the median house value for California districts,\\nexpressed in hundreds of thousands of dollars ($100,000).\\n\\nThis dataset was derived from the 1990 U.S. census, using one row per census\\nblock group. A block group is the smallest geographical unit for which the U.S.\\nCensus Bureau publishes sample data (a block group typically has a population\\nof 600 to 3,000 people).\\n\\nA household is a group of people residing within a home. Since the average\\nnumber of rooms and bedrooms in this dataset are provided per household, these\\ncolumns may take surprisingly large values for block groups with few households\\nand many empty houses, such as vacation resorts.\\n\\nIt can be downloaded/loaded using the\\n:func:`sklearn.datasets.fetch_california_housing` function.\\n\\n.. topic:: References\\n\\n    - Pace, R. Kelley and Ronald Barry, Sparse Spatial Autoregressions,\\n      Statistics and Probability Letters, 33 (1997) 291-297\\n'}"
      ]
     },
     "execution_count": 7,
     "metadata": {},
     "output_type": "execute_result"
    }
   ],
   "source": [
    "data"
   ]
  },
  {
   "cell_type": "code",
   "execution_count": 5,
   "id": "cd1b7477",
   "metadata": {},
   "outputs": [],
   "source": [
    "df = pd.DataFrame(data.data, columns=data.feature_names)"
   ]
  },
  {
   "cell_type": "code",
   "execution_count": 6,
   "id": "ec6203bf",
   "metadata": {},
   "outputs": [
    {
     "data": {
      "text/html": [
       "<div>\n",
       "<style scoped>\n",
       "    .dataframe tbody tr th:only-of-type {\n",
       "        vertical-align: middle;\n",
       "    }\n",
       "\n",
       "    .dataframe tbody tr th {\n",
       "        vertical-align: top;\n",
       "    }\n",
       "\n",
       "    .dataframe thead th {\n",
       "        text-align: right;\n",
       "    }\n",
       "</style>\n",
       "<table border=\"1\" class=\"dataframe\">\n",
       "  <thead>\n",
       "    <tr style=\"text-align: right;\">\n",
       "      <th></th>\n",
       "      <th>MedInc</th>\n",
       "      <th>HouseAge</th>\n",
       "      <th>AveRooms</th>\n",
       "      <th>AveBedrms</th>\n",
       "      <th>Population</th>\n",
       "      <th>AveOccup</th>\n",
       "      <th>Latitude</th>\n",
       "      <th>Longitude</th>\n",
       "    </tr>\n",
       "  </thead>\n",
       "  <tbody>\n",
       "    <tr>\n",
       "      <th>0</th>\n",
       "      <td>8.3252</td>\n",
       "      <td>41.0</td>\n",
       "      <td>6.984127</td>\n",
       "      <td>1.023810</td>\n",
       "      <td>322.0</td>\n",
       "      <td>2.555556</td>\n",
       "      <td>37.88</td>\n",
       "      <td>-122.23</td>\n",
       "    </tr>\n",
       "    <tr>\n",
       "      <th>1</th>\n",
       "      <td>8.3014</td>\n",
       "      <td>21.0</td>\n",
       "      <td>6.238137</td>\n",
       "      <td>0.971880</td>\n",
       "      <td>2401.0</td>\n",
       "      <td>2.109842</td>\n",
       "      <td>37.86</td>\n",
       "      <td>-122.22</td>\n",
       "    </tr>\n",
       "    <tr>\n",
       "      <th>2</th>\n",
       "      <td>7.2574</td>\n",
       "      <td>52.0</td>\n",
       "      <td>8.288136</td>\n",
       "      <td>1.073446</td>\n",
       "      <td>496.0</td>\n",
       "      <td>2.802260</td>\n",
       "      <td>37.85</td>\n",
       "      <td>-122.24</td>\n",
       "    </tr>\n",
       "    <tr>\n",
       "      <th>3</th>\n",
       "      <td>5.6431</td>\n",
       "      <td>52.0</td>\n",
       "      <td>5.817352</td>\n",
       "      <td>1.073059</td>\n",
       "      <td>558.0</td>\n",
       "      <td>2.547945</td>\n",
       "      <td>37.85</td>\n",
       "      <td>-122.25</td>\n",
       "    </tr>\n",
       "    <tr>\n",
       "      <th>4</th>\n",
       "      <td>3.8462</td>\n",
       "      <td>52.0</td>\n",
       "      <td>6.281853</td>\n",
       "      <td>1.081081</td>\n",
       "      <td>565.0</td>\n",
       "      <td>2.181467</td>\n",
       "      <td>37.85</td>\n",
       "      <td>-122.25</td>\n",
       "    </tr>\n",
       "    <tr>\n",
       "      <th>...</th>\n",
       "      <td>...</td>\n",
       "      <td>...</td>\n",
       "      <td>...</td>\n",
       "      <td>...</td>\n",
       "      <td>...</td>\n",
       "      <td>...</td>\n",
       "      <td>...</td>\n",
       "      <td>...</td>\n",
       "    </tr>\n",
       "    <tr>\n",
       "      <th>20635</th>\n",
       "      <td>1.5603</td>\n",
       "      <td>25.0</td>\n",
       "      <td>5.045455</td>\n",
       "      <td>1.133333</td>\n",
       "      <td>845.0</td>\n",
       "      <td>2.560606</td>\n",
       "      <td>39.48</td>\n",
       "      <td>-121.09</td>\n",
       "    </tr>\n",
       "    <tr>\n",
       "      <th>20636</th>\n",
       "      <td>2.5568</td>\n",
       "      <td>18.0</td>\n",
       "      <td>6.114035</td>\n",
       "      <td>1.315789</td>\n",
       "      <td>356.0</td>\n",
       "      <td>3.122807</td>\n",
       "      <td>39.49</td>\n",
       "      <td>-121.21</td>\n",
       "    </tr>\n",
       "    <tr>\n",
       "      <th>20637</th>\n",
       "      <td>1.7000</td>\n",
       "      <td>17.0</td>\n",
       "      <td>5.205543</td>\n",
       "      <td>1.120092</td>\n",
       "      <td>1007.0</td>\n",
       "      <td>2.325635</td>\n",
       "      <td>39.43</td>\n",
       "      <td>-121.22</td>\n",
       "    </tr>\n",
       "    <tr>\n",
       "      <th>20638</th>\n",
       "      <td>1.8672</td>\n",
       "      <td>18.0</td>\n",
       "      <td>5.329513</td>\n",
       "      <td>1.171920</td>\n",
       "      <td>741.0</td>\n",
       "      <td>2.123209</td>\n",
       "      <td>39.43</td>\n",
       "      <td>-121.32</td>\n",
       "    </tr>\n",
       "    <tr>\n",
       "      <th>20639</th>\n",
       "      <td>2.3886</td>\n",
       "      <td>16.0</td>\n",
       "      <td>5.254717</td>\n",
       "      <td>1.162264</td>\n",
       "      <td>1387.0</td>\n",
       "      <td>2.616981</td>\n",
       "      <td>39.37</td>\n",
       "      <td>-121.24</td>\n",
       "    </tr>\n",
       "  </tbody>\n",
       "</table>\n",
       "<p>20640 rows × 8 columns</p>\n",
       "</div>"
      ],
      "text/plain": [
       "       MedInc  HouseAge  AveRooms  AveBedrms  Population  AveOccup  Latitude  \\\n",
       "0      8.3252      41.0  6.984127   1.023810       322.0  2.555556     37.88   \n",
       "1      8.3014      21.0  6.238137   0.971880      2401.0  2.109842     37.86   \n",
       "2      7.2574      52.0  8.288136   1.073446       496.0  2.802260     37.85   \n",
       "3      5.6431      52.0  5.817352   1.073059       558.0  2.547945     37.85   \n",
       "4      3.8462      52.0  6.281853   1.081081       565.0  2.181467     37.85   \n",
       "...       ...       ...       ...        ...         ...       ...       ...   \n",
       "20635  1.5603      25.0  5.045455   1.133333       845.0  2.560606     39.48   \n",
       "20636  2.5568      18.0  6.114035   1.315789       356.0  3.122807     39.49   \n",
       "20637  1.7000      17.0  5.205543   1.120092      1007.0  2.325635     39.43   \n",
       "20638  1.8672      18.0  5.329513   1.171920       741.0  2.123209     39.43   \n",
       "20639  2.3886      16.0  5.254717   1.162264      1387.0  2.616981     39.37   \n",
       "\n",
       "       Longitude  \n",
       "0        -122.23  \n",
       "1        -122.22  \n",
       "2        -122.24  \n",
       "3        -122.25  \n",
       "4        -122.25  \n",
       "...          ...  \n",
       "20635    -121.09  \n",
       "20636    -121.21  \n",
       "20637    -121.22  \n",
       "20638    -121.32  \n",
       "20639    -121.24  \n",
       "\n",
       "[20640 rows x 8 columns]"
      ]
     },
     "execution_count": 6,
     "metadata": {},
     "output_type": "execute_result"
    }
   ],
   "source": [
    "df"
   ]
  },
  {
   "cell_type": "code",
   "execution_count": 9,
   "id": "ab768310",
   "metadata": {},
   "outputs": [
    {
     "data": {
      "text/plain": [
       "<Axes: >"
      ]
     },
     "execution_count": 9,
     "metadata": {},
     "output_type": "execute_result"
    },
    {
     "data": {
      "image/png": "[encoded data removed]",
      "text/plain": [
       "<Figure size 640x480 with 2 Axes>"
      ]
     },
     "metadata": {},
     "output_type": "display_data"
    }
   ],
   "source": [
    "sns.heatmap(df.corr(), annot=True, vmin=-1, vmax=1)"
   ]
  },
  {
   "cell_type": "code",
   "execution_count": null,
   "id": "0e706d54",
   "metadata": {},
   "outputs": [],
   "source": [
    "# Importing variance_inflation_factor\n",
    "from statsmodels.stats.outliers_influence import variance_inflation_factor\n"
   ]
  },
  {
   "cell_type": "code",
   "execution_count": 15,
   "id": "9ef90cf0",
   "metadata": {},
   "outputs": [],
   "source": [
    "vif = pd.DataFrame()\n",
    "vif['features'] = df.columns\n",
    "vif['VIF'] = [variance_inflation_factor(df.values, i) for i in range(len(df.columns))]\n"
   ]
  },
  {
   "cell_type": "code",
   "execution_count": 16,
   "id": "3b289f37",
   "metadata": {},
   "outputs": [
    {
     "data": {
      "text/html": [
       "<div>\n",
       "<style scoped>\n",
       "    .dataframe tbody tr th:only-of-type {\n",
       "        vertical-align: middle;\n",
       "    }\n",
       "\n",
       "    .dataframe tbody tr th {\n",
       "        vertical-align: top;\n",
       "    }\n",
       "\n",
       "    .dataframe thead th {\n",
       "        text-align: right;\n",
       "    }\n",
       "</style>\n",
       "<table border=\"1\" class=\"dataframe\">\n",
       "  <thead>\n",
       "    <tr style=\"text-align: right;\">\n",
       "      <th></th>\n",
       "      <th>features</th>\n",
       "      <th>VIF</th>\n",
       "    </tr>\n",
       "  </thead>\n",
       "  <tbody>\n",
       "    <tr>\n",
       "      <th>0</th>\n",
       "      <td>MedInc</td>\n",
       "      <td>11.511140</td>\n",
       "    </tr>\n",
       "    <tr>\n",
       "      <th>1</th>\n",
       "      <td>HouseAge</td>\n",
       "      <td>7.195917</td>\n",
       "    </tr>\n",
       "    <tr>\n",
       "      <th>2</th>\n",
       "      <td>AveRooms</td>\n",
       "      <td>45.993601</td>\n",
       "    </tr>\n",
       "    <tr>\n",
       "      <th>3</th>\n",
       "      <td>AveBedrms</td>\n",
       "      <td>43.590314</td>\n",
       "    </tr>\n",
       "    <tr>\n",
       "      <th>4</th>\n",
       "      <td>Population</td>\n",
       "      <td>2.935745</td>\n",
       "    </tr>\n",
       "    <tr>\n",
       "      <th>5</th>\n",
       "      <td>AveOccup</td>\n",
       "      <td>1.095243</td>\n",
       "    </tr>\n",
       "    <tr>\n",
       "      <th>6</th>\n",
       "      <td>Latitude</td>\n",
       "      <td>559.874071</td>\n",
       "    </tr>\n",
       "    <tr>\n",
       "      <th>7</th>\n",
       "      <td>Longitude</td>\n",
       "      <td>633.711654</td>\n",
       "    </tr>\n",
       "  </tbody>\n",
       "</table>\n",
       "</div>"
      ],
      "text/plain": [
       "     features         VIF\n",
       "0      MedInc   11.511140\n",
       "1    HouseAge    7.195917\n",
       "2    AveRooms   45.993601\n",
       "3   AveBedrms   43.590314\n",
       "4  Population    2.935745\n",
       "5    AveOccup    1.095243\n",
       "6    Latitude  559.874071\n",
       "7   Longitude  633.711654"
      ]
     },
     "execution_count": 16,
     "metadata": {},
     "output_type": "execute_result"
    }
   ],
   "source": [
    "vif"
   ]
  },
  {
   "cell_type": "code",
   "execution_count": null,
   "id": "97ff5fea",
   "metadata": {},
   "outputs": [],
   "source": []
  },
  {
   "cell_type": "code",
   "execution_count": 3,
   "id": "bfe0cfea",
   "metadata": {},
   "outputs": [],
   "source": [
    "import pandas as pd \n",
    "from sentence_transformers import SentenceTransformer, util"
   ]
  },
  {
   "cell_type": "code",
   "execution_count": 4,
   "id": "0b245903",
   "metadata": {},
   "outputs": [],
   "source": [
    "# Load model\n",
    "model = SentenceTransformer('all-MiniLM-L6-v2')\n"
   ]
  },
  {
   "cell_type": "code",
   "execution_count": 6,
   "id": "349e2e83",
   "metadata": {},
   "outputs": [],
   "source": [
    "# Dummy data\n",
    "data = {\n",
    "    \"symptom\": [\"fever\", \"cough\", \"cold\", \"headache\"],\n",
    "    \"treatment\": [\"paracetamol\", \"benadryl\", \"cetirizine\", \"aspirin\"]\n",
    "}\n",
    "\n",
    "df = pd.DataFrame(data)"
   ]
  },
  {
   "cell_type": "code",
   "execution_count": 7,
   "id": "fd0dd551",
   "metadata": {},
   "outputs": [
    {
     "data": {
      "text/html": [
       "<div>\n",
       "<style scoped>\n",
       "    .dataframe tbody tr th:only-of-type {\n",
       "        vertical-align: middle;\n",
       "    }\n",
       "\n",
       "    .dataframe tbody tr th {\n",
       "        vertical-align: top;\n",
       "    }\n",
       "\n",
       "    .dataframe thead th {\n",
       "        text-align: right;\n",
       "    }\n",
       "</style>\n",
       "<table border=\"1\" class=\"dataframe\">\n",
       "  <thead>\n",
       "    <tr style=\"text-align: right;\">\n",
       "      <th></th>\n",
       "      <th>symptom</th>\n",
       "      <th>treatment</th>\n",
       "    </tr>\n",
       "  </thead>\n",
       "  <tbody>\n",
       "    <tr>\n",
       "      <th>0</th>\n",
       "      <td>fever</td>\n",
       "      <td>paracetamol</td>\n",
       "    </tr>\n",
       "    <tr>\n",
       "      <th>1</th>\n",
       "      <td>cough</td>\n",
       "      <td>benadryl</td>\n",
       "    </tr>\n",
       "    <tr>\n",
       "      <th>2</th>\n",
       "      <td>cold</td>\n",
       "      <td>cetirizine</td>\n",
       "    </tr>\n",
       "    <tr>\n",
       "      <th>3</th>\n",
       "      <td>headache</td>\n",
       "      <td>aspirin</td>\n",
       "    </tr>\n",
       "  </tbody>\n",
       "</table>\n",
       "</div>"
      ],
      "text/plain": [
       "    symptom    treatment\n",
       "0     fever  paracetamol\n",
       "1     cough     benadryl\n",
       "2      cold   cetirizine\n",
       "3  headache      aspirin"
      ]
     },
     "execution_count": 7,
     "metadata": {},
     "output_type": "execute_result"
    }
   ],
   "source": [
    "df"
   ]
  },
  {
   "cell_type": "code",
   "execution_count": 9,
   "id": "e8bd3501",
   "metadata": {},
   "outputs": [
    {
     "data": {
      "text/plain": [
       "['paracetamol', 'benadryl', 'cetirizine', 'aspirin']"
      ]
     },
     "execution_count": 9,
     "metadata": {},
     "output_type": "execute_result"
    }
   ],
   "source": [
    "symptoms_list = df[\"symptom\"].tolist()\n",
    "treatments_list = df[\"treatment\"].tolist()\n",
    "treatments_list"
   ]
  },
  {
   "cell_type": "code",
   "execution_count": 11,
   "id": "5f35adf8",
   "metadata": {},
   "outputs": [
    {
     "data": {
      "text/plain": [
       "tensor([[-0.0246,  0.0534, -0.0067,  ..., -0.0050, -0.0392, -0.0171],\n",
       "        [-0.0262, -0.0145,  0.0284,  ..., -0.0746,  0.0024,  0.0848],\n",
       "        [-0.0882, -0.0091,  0.0045,  ..., -0.0311, -0.1325,  0.0509],\n",
       "        [-0.1057,  0.0299, -0.0351,  ...,  0.0227,  0.0556, -0.0007]])"
      ]
     },
     "execution_count": 11,
     "metadata": {},
     "output_type": "execute_result"
    }
   ],
   "source": [
    "symptoms_embd = model.encode(symptoms_list, convert_to_tensor=True)\n",
    "symptoms_embd"
   ]
  },
  {
   "cell_type": "code",
   "execution_count": 12,
   "id": "6df07908",
   "metadata": {},
   "outputs": [
    {
     "data": {
      "text/plain": [
       "tensor([-2.9065e-02, -1.9042e-02,  1.9611e-02,  2.0500e-03,  6.3598e-02,\n",
       "        -4.6344e-02,  1.2837e-01,  5.5467e-02,  3.5433e-02, -1.1558e-03,\n",
       "        -7.9112e-02, -8.6451e-02,  5.3608e-02,  5.7376e-02,  3.7506e-03,\n",
       "        -3.8338e-02,  7.6866e-03, -7.8303e-02, -6.7276e-02,  4.3822e-03,\n",
       "        -1.2857e-01,  1.4417e-02, -3.6934e-02,  4.1275e-02, -4.9622e-02,\n",
       "         9.3380e-02,  9.4066e-03,  1.3005e-02, -3.4934e-02, -3.4493e-02,\n",
       "        -2.3915e-02, -9.1421e-03, -1.1810e-02, -3.8724e-02,  5.8018e-03,\n",
       "         1.8782e-03, -4.3666e-02, -6.4463e-02, -5.7776e-02,  5.0104e-02,\n",
       "         5.5136e-03,  3.4788e-02,  5.0831e-02, -2.6928e-02,  8.5133e-02,\n",
       "         1.1242e-02, -9.2772e-02,  8.1565e-02,  1.3067e-01, -1.7680e-02,\n",
       "        -1.9574e-02,  1.8073e-02,  1.8447e-02,  3.6661e-02, -7.7478e-03,\n",
       "         8.4841e-02, -7.9758e-02, -6.7665e-02, -4.6610e-02, -4.3075e-03,\n",
       "        -8.2839e-02,  4.8044e-02, -1.2739e-03, -3.7214e-03, -2.2695e-03,\n",
       "        -2.7205e-02, -4.5365e-02,  5.3499e-02, -2.7174e-03,  9.4324e-02,\n",
       "        -1.5402e-02,  8.6163e-03,  9.2988e-03,  3.9281e-02, -3.9035e-02,\n",
       "        -1.8568e-02,  1.1347e-01, -7.2843e-02,  5.9983e-02,  2.3058e-02,\n",
       "        -1.9533e-02, -5.0970e-02,  5.0433e-02,  3.4641e-02, -2.5635e-02,\n",
       "         2.4465e-02,  1.1449e-01,  6.0083e-02, -7.0930e-02,  6.6033e-02,\n",
       "         1.0663e-02, -6.5921e-02, -5.8662e-03,  4.5722e-02, -1.0740e-02,\n",
       "         1.2723e-02,  9.0910e-03, -8.3898e-03, -2.5782e-02,  1.2273e-01,\n",
       "        -6.2233e-02, -1.0956e-01,  2.5176e-02,  8.0049e-02,  3.1957e-02,\n",
       "         3.9173e-03, -9.4577e-03, -5.6212e-02,  4.7421e-02, -9.1733e-02,\n",
       "        -2.3012e-02,  5.8922e-02,  3.0460e-02,  1.4080e-02,  3.1424e-02,\n",
       "        -2.1454e-02, -1.2929e-02,  1.0100e-02, -1.7240e-02,  6.0127e-03,\n",
       "         4.3328e-02, -2.5911e-03,  2.1660e-02,  3.8890e-02, -1.4186e-02,\n",
       "        -5.6839e-02,  6.3376e-02, -4.7674e-33,  9.8909e-03,  1.2161e-02,\n",
       "         6.1457e-02,  7.8707e-02,  4.2352e-02, -2.6507e-03, -2.5300e-02,\n",
       "         2.7751e-02, -1.3578e-02, -8.4665e-02,  6.4779e-02, -1.3085e-02,\n",
       "        -3.8185e-02,  3.0021e-02, -4.7073e-02,  3.3370e-02,  4.3831e-02,\n",
       "        -4.0266e-03,  5.3264e-02, -5.1917e-03,  1.9516e-02, -6.6358e-04,\n",
       "         9.7486e-03,  6.7375e-02, -3.6362e-02, -1.5739e-02, -2.8918e-02,\n",
       "        -1.8679e-02, -9.3183e-03,  1.4878e-02, -3.8391e-02, -4.1502e-02,\n",
       "        -2.3427e-02,  6.4760e-03, -4.7688e-02,  4.0666e-02, -6.5553e-02,\n",
       "         1.1143e-02,  1.3614e-02, -9.4868e-04,  5.4120e-02,  5.8824e-04,\n",
       "        -9.4144e-02,  6.1069e-02,  6.4514e-02,  1.5617e-02, -3.7337e-02,\n",
       "         4.7503e-02, -5.4371e-02, -1.4421e-02,  4.2115e-03, -2.8452e-02,\n",
       "        -1.2538e-02, -4.0389e-02, -2.7024e-03, -3.7344e-02,  7.2959e-02,\n",
       "         1.4627e-02,  4.0954e-02,  3.3235e-02,  8.3732e-02,  5.6856e-02,\n",
       "        -8.7492e-02, -1.2451e-02, -2.4773e-02, -7.4875e-03, -5.9161e-03,\n",
       "        -2.1091e-02,  1.8254e-02, -5.6948e-03, -5.5649e-02,  3.1181e-02,\n",
       "         3.2744e-02,  8.2063e-02, -2.9328e-02,  4.5153e-03,  4.3703e-02,\n",
       "        -3.9499e-02, -5.8892e-02, -8.5017e-02, -8.2466e-02, -1.6554e-02,\n",
       "         1.5774e-01,  6.0454e-02,  5.2294e-02, -4.7431e-02, -6.1168e-02,\n",
       "         9.1260e-03, -3.5218e-02, -1.4881e-02, -1.0139e-03, -2.4312e-02,\n",
       "         1.4427e-02,  7.6811e-02, -7.7894e-02,  2.7868e-33,  2.4253e-02,\n",
       "        -1.4251e-02, -8.4289e-02,  4.6263e-02, -4.0395e-02,  3.9295e-02,\n",
       "         6.9632e-02,  6.4324e-02,  2.0169e-02,  6.5403e-03,  9.0377e-02,\n",
       "        -8.9155e-02, -8.4117e-03, -4.2291e-02,  5.0441e-02,  6.9559e-02,\n",
       "         4.9525e-02,  1.3564e-01,  1.1198e-02,  8.5948e-02, -1.5336e-01,\n",
       "         4.2955e-02,  3.3289e-02,  2.1152e-03,  3.4223e-03, -7.5509e-03,\n",
       "         5.8114e-02, -1.2438e-02, -1.2418e-01, -1.2496e-02,  6.6707e-02,\n",
       "        -2.6967e-02, -5.7206e-02, -3.6071e-02,  2.8597e-02,  6.2923e-02,\n",
       "         7.4276e-02, -7.2109e-02, -6.2271e-03, -8.1273e-03, -1.8240e-02,\n",
       "         3.4888e-02,  9.5877e-02,  1.0346e-01,  4.0057e-02,  7.4477e-02,\n",
       "        -3.1181e-02,  3.9089e-02,  4.3822e-03,  1.1272e-01,  1.0167e-04,\n",
       "        -5.5076e-02, -7.6929e-02,  3.0422e-02, -6.5889e-02, -8.8191e-02,\n",
       "        -1.1073e-01, -5.3930e-02, -3.3800e-02,  4.5105e-03,  5.8675e-03,\n",
       "        -1.6426e-02, -8.4029e-02,  2.7013e-02,  2.5886e-02,  5.2110e-03,\n",
       "         3.9502e-03,  2.6229e-02,  7.7549e-02, -3.1467e-02,  1.1374e-02,\n",
       "        -1.7291e-02, -9.2886e-02,  1.2458e-02,  5.6699e-02, -4.2666e-03,\n",
       "        -3.2630e-02,  3.5753e-02,  5.5371e-02, -5.8224e-02, -6.0923e-02,\n",
       "         2.1737e-02, -3.1264e-03, -3.4157e-02, -1.3897e-03, -9.4951e-02,\n",
       "         7.9122e-02,  3.7588e-02, -6.1351e-02, -5.5045e-02,  1.6049e-02,\n",
       "         3.1932e-03,  1.9929e-02,  8.3500e-03, -1.9231e-02, -1.3565e-08,\n",
       "         7.4693e-02, -5.6483e-02,  3.9777e-02,  3.1595e-02,  2.7388e-02,\n",
       "        -8.7325e-03, -4.5339e-02, -3.6367e-02,  5.8911e-02,  8.7714e-03,\n",
       "        -3.6257e-02,  1.0899e-01,  2.9322e-02, -4.3471e-03, -2.4309e-02,\n",
       "        -3.0727e-03, -5.9315e-02, -9.2426e-03,  1.6447e-02, -4.1899e-02,\n",
       "        -2.5998e-02, -2.8413e-02,  3.4671e-02,  3.4486e-02,  6.8993e-02,\n",
       "         2.5558e-04, -1.3251e-03,  8.7361e-03,  1.8002e-02, -1.1355e-02,\n",
       "        -6.5545e-02,  4.6669e-02, -9.7945e-02, -2.6421e-02, -3.0180e-02,\n",
       "        -3.5780e-02,  4.5285e-02,  1.7590e-02,  6.3702e-02, -1.0873e-01,\n",
       "         5.2090e-02,  2.6675e-02,  1.4567e-02, -7.9613e-02, -2.7758e-02,\n",
       "        -1.0070e-01, -1.0518e-02,  1.3414e-02,  9.2269e-02, -1.0297e-01,\n",
       "         4.9005e-02, -3.0244e-02,  7.4573e-02,  9.3678e-02, -3.4043e-02,\n",
       "        -3.2893e-02, -2.5783e-02,  1.7328e-02, -7.6745e-03, -1.6511e-02,\n",
       "         3.5646e-02, -3.6941e-02, -8.0923e-02, -8.3989e-02])"
      ]
     },
     "execution_count": 12,
     "metadata": {},
     "output_type": "execute_result"
    }
   ],
   "source": [
    "user_input = 'I have fever'\n",
    "\n",
    "input_embd = model.encode(user_input, convert_to_tensor=True)\n",
    "input_embd"
   ]
  },
  {
   "cell_type": "code",
   "execution_count": 22,
   "id": "990d2ac1",
   "metadata": {},
   "outputs": [
    {
     "name": "stdout",
     "output_type": "stream",
     "text": [
      "matched symptom: fever\n",
      "recommended_treatment: paracetamol\n"
     ]
    }
   ],
   "source": [
    "scores  = util.pytorch_cos_sim(input_embd, symptoms_embd)[0]\n",
    "scores \n",
    "top_idx = scores.argmax().item()\n",
    "top_idx\n",
    "\n",
    "# how the inputs are converted into the embeddings tell me into detail\n",
    "print(f\"matched symptom: {symptoms_list[top_idx]}\")\n",
    "print(f\"recommended_treatment: {treatments_list[top_idx]}\")"
   ]
  }
 ],
 "metadata": {
  "kernelspec": {
   "display_name": "base",
   "language": "python",
   "name": "python3"
  },
  "language_info": {
   "codemirror_mode": {
    "name": "ipython",
    "version": 3
   },
   "file_extension": ".py",
   "mimetype": "text/x-python",
   "name": "python",
   "nbconvert_exporter": "python",
   "pygments_lexer": "ipython3",
   "version": "3.12.4"
  }
 },
 "nbformat": 4,
 "nbformat_minor": 5
}
